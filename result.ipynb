{
 "cells": [
  {
   "cell_type": "code",
   "execution_count": 32,
   "metadata": {},
   "outputs": [],
   "source": [
    "import pickle\n",
    "import sympy"
   ]
  },
  {
   "cell_type": "code",
   "execution_count": 33,
   "metadata": {},
   "outputs": [],
   "source": [
    "def get_e(n, precision = 50):\n",
    "    V = sympy.Integer(2)**10\n",
    "    L = sympy.Integer(2)**21\n",
    "\n",
    "    # Load the large integer with infinite precision\n",
    "    with open(f\"./total_sum_n{n}.pkl\", \"rb\") as f:\n",
    "        loaded_num = sympy.Integer(pickle.load(f))  # ensure it's a SymPy Integer\n",
    "    # print(len(str(loaded_num)))\n",
    "    factor = sympy.Integer(n*2)\n",
    "    denominator = V**(L + factor)\n",
    "    result = 1 - (loaded_num / denominator).evalf(precision)\n",
    "    e_x = (result * (V ** (factor))).evalf(precision)\n",
    "    print(result.evalf(precision))\n",
    "    return e_x"
   ]
  },
  {
   "cell_type": "code",
   "execution_count": 34,
   "metadata": {},
   "outputs": [
    {
     "name": "stdout",
     "output_type": "stream",
     "text": [
      "0.13533528323651019945850475464932830994105595397601\n"
     ]
    },
    {
     "data": {
      "text/latex": [
       "$\\displaystyle 141909.32995500691890740108161117408192475268799635$"
      ],
      "text/plain": [
       "141909.32995500691890740108161117408192475268799635"
      ]
     },
     "execution_count": 34,
     "metadata": {},
     "output_type": "execute_result"
    }
   ],
   "source": [
    "e_x = get_e(1)\n",
    "e_x\n",
    "#0.135335283236510199458504754649\n",
    "#0.13533528323651019946 result from notebook "
   ]
  },
  {
   "cell_type": "code",
   "execution_count": 35,
   "metadata": {},
   "outputs": [
    {
     "name": "stdout",
     "output_type": "stream",
     "text": [
      "0.018315715621252352909816611109432049937414468124369\n"
     ]
    },
    {
     "data": {
      "text/latex": [
       "$\\displaystyle 20138342296.605485647542472210575598493551100772198$"
      ],
      "text/plain": [
       "20138342296.605485647542472210575598493551100772198"
      ]
     },
     "execution_count": 35,
     "metadata": {},
     "output_type": "execute_result"
    }
   ],
   "source": [
    "e2_x = get_e(2)\n",
    "e2_x"
   ]
  },
  {
   "cell_type": "code",
   "execution_count": 31,
   "metadata": {},
   "outputs": [
    {
     "data": {
      "text/latex": [
       "$\\displaystyle 84368.326461630490855798936347255201344293176127852$"
      ],
      "text/plain": [
       "84368.326461630490855798936347255201344293176127852"
      ]
     },
     "execution_count": 31,
     "metadata": {},
     "output_type": "execute_result"
    }
   ],
   "source": [
    "e2_x - e_x**2"
   ]
  },
  {
   "cell_type": "code",
   "execution_count": 32,
   "metadata": {},
   "outputs": [
    {
     "data": {
      "text/plain": [
       "(20138342296.6054856, 141909.329955)"
      ]
     },
     "execution_count": 32,
     "metadata": {},
     "output_type": "execute_result"
    }
   ],
   "source": [
    "round(e2_x, 7) , round(e_x, 6)"
   ]
  },
  {
   "cell_type": "code",
   "execution_count": null,
   "metadata": {},
   "outputs": [
    {
     "data": {
      "text/plain": [
       "84368.32842636108"
      ]
     },
     "execution_count": 33,
     "metadata": {},
     "output_type": "execute_result"
    }
   ],
   "source": [
    "20138342296.605485 - 141909.329955**2\n",
    "# 84368.32842636108 result from Yahav caclculation "
   ]
  },
  {
   "cell_type": "code",
   "execution_count": 2,
   "metadata": {},
   "outputs": [],
   "source": [
    "\n",
    "def gen_seq(c, n):\n",
    "    if n == 0:\n",
    "        return [[]]\n",
    "    else:\n",
    "        arr1 = [[x] + subseq for subseq in gen_seq(c, n - 1) for x in range(1, c)]\n",
    "        arr2 = [[c] + subseq for subseq in gen_seq(c + 1, n - 1)]\n",
    "        return arr1 + arr2\n",
    "\n",
    "def to_pairs(s):\n",
    "    return list(zip(s[::2], s[1::2]))\n",
    "\n",
    "def gen_pairs(n):\n",
    "    return [to_pairs(s) for s in gen_seq(1, 2 * n)]"
   ]
  },
  {
   "cell_type": "code",
   "execution_count": 6,
   "metadata": {},
   "outputs": [
    {
     "name": "stdout",
     "output_type": "stream",
     "text": [
      "2\n",
      "15\n",
      "203\n",
      "4140\n",
      "115975\n",
      "4213597\n"
     ]
    }
   ],
   "source": [
    "for n in range(1,7):\n",
    "    print(len(gen_pairs(n)))"
   ]
  }
 ],
 "metadata": {
  "kernelspec": {
   "display_name": "venv",
   "language": "python",
   "name": "python3"
  },
  "language_info": {
   "codemirror_mode": {
    "name": "ipython",
    "version": 3
   },
   "file_extension": ".py",
   "mimetype": "text/x-python",
   "name": "python",
   "nbconvert_exporter": "python",
   "pygments_lexer": "ipython3",
   "version": "3.10.12"
  }
 },
 "nbformat": 4,
 "nbformat_minor": 2
}
